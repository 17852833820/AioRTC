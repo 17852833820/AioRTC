{
 "cells": [
  {
   "cell_type": "code",
   "execution_count": null,
   "metadata": {},
   "outputs": [],
   "source": [
    "import re\n",
    "from datetime import datetime\n",
    "\n",
    "jit_line_pattern = re.compile(r'(?P<timestamp>\\d{4}-\\d{2}-\\d{2} \\d{2}:\\d{2}:\\d{2}) - DEBUG - RTCRtpReceiver\\(video\\) \\[FRAME_INFO\\] T: \\d+, jit_dur: (?P<jit_dur>\\d+), Bytes: \\d+')\n",
    "dec_line_pattern = re.compile(r'(?P<timestamp>\\d{4}-\\d{2}-\\d{2} \\d{2}:\\d{2}:\\d{2}) - DEBUG - RTCRtpReceiver\\(decoder_worker\\) \\[FRAME_INFO\\] T: \\d+, dec_dur: (?P<dec_dur>\\d+), Bytes: \\d+')\n",
    "\n",
    "# 用于存储 jit_dur 的列表\n",
    "jit_dur_values = []\n",
    "\n",
    "# 读取 log 文件\n",
    "log_file_path = 'log/offer/test.log'\n",
    "with open(log_file_path, 'r') as file:\n",
    "    for line in file:\n",
    "        match = log_line_pattern.search(line)\n",
    "        if match:\n",
    "            timestamp_str = match.group('timestamp')\n",
    "            jit_dur_str = match.group('jit_dur')\n",
    "\n",
    "            # 解析时间戳字符串为 datetime 对象\n",
    "            timestamp = datetime.strptime(timestamp_str, '%Y-%m-%d %H:%M:%S')\n",
    "\n",
    "            # 将时间戳和 jit_dur 添加到列表\n",
    "            jit_dur_values.append({\n",
    "                'timestamp': timestamp,\n",
    "                'jit_dur': int(jit_dur_str),\n",
    "            })\n",
    "\n",
    "# 打印结果\n",
    "for entry in jit_dur_values:\n",
    "    print(f\"Timestamp: {entry['timestamp']}, jit_dur: {entry['jit_dur']}\")\n"
   ]
  }
 ],
 "metadata": {
  "language_info": {
   "name": "python"
  },
  "orig_nbformat": 4
 },
 "nbformat": 4,
 "nbformat_minor": 2
}
